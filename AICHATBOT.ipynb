{
 "cells": [
  {
   "cell_type": "code",
   "execution_count": null,
   "id": "28c063f4-2ca8-4e56-b3b6-fff1cdcfd369",
   "metadata": {},
   "outputs": [
    {
     "name": "stderr",
     "output_type": "stream",
     "text": [
      "[nltk_data] Downloading package vader_lexicon to\n",
      "[nltk_data]     C:\\Users\\abiab\\AppData\\Roaming\\nltk_data...\n",
      "[nltk_data]   Package vader_lexicon is already up-to-date!\n"
     ]
    },
    {
     "name": "stdout",
     "output_type": "stream",
     "text": [
      "AI Chatbot: Hello! I'm here to listen. How are you feeling today? (Type 'exit' to stop)\n"
     ]
    },
    {
     "name": "stdin",
     "output_type": "stream",
     "text": [
      "You:  good\n"
     ]
    },
    {
     "name": "stdout",
     "output_type": "stream",
     "text": [
      "AI Chatbot: I'm really glad to hear that! 😊 What else is on your mind? (Sentiment Score: 0.44)\n"
     ]
    },
    {
     "name": "stdin",
     "output_type": "stream",
     "text": [
      "You:  I just finished a big project and it went well!\n"
     ]
    },
    {
     "name": "stdout",
     "output_type": "stream",
     "text": [
      "AI Chatbot: I'm really glad to hear that! 😊 What else is on your mind? (Sentiment Score: 0.34)\n"
     ]
    },
    {
     "name": "stdin",
     "output_type": "stream",
     "text": [
      "You:  I’m so excited for my upcoming vacation!\n"
     ]
    },
    {
     "name": "stdout",
     "output_type": "stream",
     "text": [
      "AI Chatbot: I'm really glad to hear that! 😊 What else is on your mind? (Sentiment Score: 0.46)\n"
     ]
    },
    {
     "name": "stdin",
     "output_type": "stream",
     "text": [
      "You:  I’ve been feeling really motivated lately.\n"
     ]
    },
    {
     "name": "stdout",
     "output_type": "stream",
     "text": [
      "AI Chatbot: I'm really glad to hear that! 😊 What else is on your mind? (Sentiment Score: 0.58)\n"
     ]
    },
    {
     "name": "stdin",
     "output_type": "stream",
     "text": [
      "You:  I met a great new friend today.\n"
     ]
    },
    {
     "name": "stdout",
     "output_type": "stream",
     "text": [
      "AI Chatbot: I'm really glad to hear that! 😊 What else is on your mind? (Sentiment Score: 0.81)\n"
     ]
    },
    {
     "name": "stdin",
     "output_type": "stream",
     "text": [
      "You:  I received a compliment that made my day!\n"
     ]
    },
    {
     "name": "stdout",
     "output_type": "stream",
     "text": [
      "AI Chatbot: I'm really glad to hear that! 😊 What else is on your mind? (Sentiment Score: 0.53)\n"
     ]
    },
    {
     "name": "stdin",
     "output_type": "stream",
     "text": [
      "You:  I cooked a delicious meal last night.\n"
     ]
    },
    {
     "name": "stdout",
     "output_type": "stream",
     "text": [
      "AI Chatbot: I'm really glad to hear that! 😊 What else is on your mind? (Sentiment Score: 0.57)\n"
     ]
    },
    {
     "name": "stdin",
     "output_type": "stream",
     "text": [
      "You:  I love the beautiful weather we’re having!\n"
     ]
    },
    {
     "name": "stdout",
     "output_type": "stream",
     "text": [
      "AI Chatbot: I'm really glad to hear that! 😊 What else is on your mind? (Sentiment Score: 0.86)\n"
     ]
    },
    {
     "name": "stdin",
     "output_type": "stream",
     "text": [
      "You:  i love you \n"
     ]
    },
    {
     "name": "stdout",
     "output_type": "stream",
     "text": [
      "AI Chatbot: I'm really glad to hear that! 😊 What else is on your mind? (Sentiment Score: 0.64)\n"
     ]
    },
    {
     "name": "stdin",
     "output_type": "stream",
     "text": [
      "You:  I just had coffee.\n"
     ]
    },
    {
     "name": "stdout",
     "output_type": "stream",
     "text": [
      "AI Chatbot: Thanks for sharing! How can I assist you further? (Sentiment Score: 0.00)\n"
     ]
    },
    {
     "name": "stdin",
     "output_type": "stream",
     "text": [
      "You:  I’m reading a new book.\n"
     ]
    },
    {
     "name": "stdout",
     "output_type": "stream",
     "text": [
      "AI Chatbot: Thanks for sharing! How can I assist you further? (Sentiment Score: 0.00)\n"
     ]
    },
    {
     "name": "stdin",
     "output_type": "stream",
     "text": [
      "You:  I walked my dog this morning.\n"
     ]
    },
    {
     "name": "stdout",
     "output_type": "stream",
     "text": [
      "AI Chatbot: Thanks for sharing! How can I assist you further? (Sentiment Score: 0.00)\n"
     ]
    },
    {
     "name": "stdin",
     "output_type": "stream",
     "text": [
      "You:  I need to do laundry.\n"
     ]
    },
    {
     "name": "stdout",
     "output_type": "stream",
     "text": [
      "AI Chatbot: Thanks for sharing! How can I assist you further? (Sentiment Score: 0.00)\n"
     ]
    },
    {
     "name": "stdin",
     "output_type": "stream",
     "text": [
      "You:  I visited a museum last weekend.\n"
     ]
    },
    {
     "name": "stdout",
     "output_type": "stream",
     "text": [
      "AI Chatbot: Thanks for sharing! How can I assist you further? (Sentiment Score: 0.00)\n"
     ]
    },
    {
     "name": "stdin",
     "output_type": "stream",
     "text": [
      "You:  I checked my email today.\n"
     ]
    },
    {
     "name": "stdout",
     "output_type": "stream",
     "text": [
      "AI Chatbot: Thanks for sharing! How can I assist you further? (Sentiment Score: 0.00)\n"
     ]
    },
    {
     "name": "stdin",
     "output_type": "stream",
     "text": [
      "You:  I’m thinking about what to have for dinner.\n"
     ]
    },
    {
     "name": "stdout",
     "output_type": "stream",
     "text": [
      "AI Chatbot: Thanks for sharing! How can I assist you further? (Sentiment Score: 0.00)\n"
     ]
    },
    {
     "name": "stdin",
     "output_type": "stream",
     "text": [
      "You:  I saw a movie with some friends last week.\n"
     ]
    },
    {
     "name": "stdout",
     "output_type": "stream",
     "text": [
      "AI Chatbot: I'm really glad to hear that! 😊 What else is on your mind? (Sentiment Score: 0.48)\n"
     ]
    },
    {
     "name": "stdin",
     "output_type": "stream",
     "text": [
      "You:  I’m really frustrated with my work situation.\n"
     ]
    },
    {
     "name": "stdout",
     "output_type": "stream",
     "text": [
      "AI Chatbot: I'm sorry to hear that. 😟 It's important to talk about how you feel. What’s bothering you? (Sentiment Score: -0.57)\n"
     ]
    },
    {
     "name": "stdin",
     "output_type": "stream",
     "text": [
      "You:  I feel overwhelmed by everything going on.\n"
     ]
    },
    {
     "name": "stdout",
     "output_type": "stream",
     "text": [
      "AI Chatbot: I'm really glad to hear that! 😊 What else is on your mind? (Sentiment Score: 0.05)\n"
     ]
    },
    {
     "name": "stdin",
     "output_type": "stream",
     "text": [
      "You:  I had a terrible day; nothing went right.\n"
     ]
    },
    {
     "name": "stdout",
     "output_type": "stream",
     "text": [
      "AI Chatbot: I'm sorry to hear that. 😟 It's important to talk about how you feel. What’s bothering you? (Sentiment Score: -0.48)\n"
     ]
    },
    {
     "name": "stdin",
     "output_type": "stream",
     "text": [
      "You:  I had a terrible day; nothing went right.\n"
     ]
    },
    {
     "name": "stdout",
     "output_type": "stream",
     "text": [
      "AI Chatbot: I'm sorry to hear that. 😟 It's important to talk about how you feel. What’s bothering you? (Sentiment Score: -0.48)\n"
     ]
    },
    {
     "name": "stdin",
     "output_type": "stream",
     "text": [
      "You:  I’m worried about my health.\n"
     ]
    },
    {
     "name": "stdout",
     "output_type": "stream",
     "text": [
      "AI Chatbot: I'm sorry to hear that. 😟 It's important to talk about how you feel. What’s bothering you? (Sentiment Score: -0.30)\n"
     ]
    },
    {
     "name": "stdin",
     "output_type": "stream",
     "text": [
      "You:  I lost something important and I can’t find it\n"
     ]
    },
    {
     "name": "stdout",
     "output_type": "stream",
     "text": [
      "AI Chatbot: I'm sorry to hear that. 😟 It's important to talk about how you feel. What’s bothering you? (Sentiment Score: -0.13)\n"
     ]
    },
    {
     "name": "stdin",
     "output_type": "stream",
     "text": [
      "You:  I’m disappointed with how things turned out.\n"
     ]
    },
    {
     "name": "stdout",
     "output_type": "stream",
     "text": [
      "AI Chatbot: I'm sorry to hear that. 😟 It's important to talk about how you feel. What’s bothering you? (Sentiment Score: -0.48)\n"
     ]
    },
    {
     "name": "stdin",
     "output_type": "stream",
     "text": [
      "You:  I feel like I’m stuck and can’t move forward.\n"
     ]
    },
    {
     "name": "stdout",
     "output_type": "stream",
     "text": [
      "AI Chatbot: I'm really glad to hear that! 😊 What else is on your mind? (Sentiment Score: 0.13)\n"
     ]
    },
    {
     "name": "stdin",
     "output_type": "stream",
     "text": [
      "You:  I’ve been dealing with a lot of stress at home.\n"
     ]
    },
    {
     "name": "stdout",
     "output_type": "stream",
     "text": [
      "AI Chatbot: I'm sorry to hear that. 😟 It's important to talk about how you feel. What’s bothering you? (Sentiment Score: -0.42)\n"
     ]
    },
    {
     "name": "stdin",
     "output_type": "stream",
     "text": [
      "You:  I’m upset about a fight I had with a friend.\n"
     ]
    },
    {
     "name": "stdout",
     "output_type": "stream",
     "text": [
      "AI Chatbot: I'm sorry to hear that. 😟 It's important to talk about how you feel. What’s bothering you? (Sentiment Score: -0.25)\n"
     ]
    }
   ],
   "source": [
    "import nltk\n",
    "from nltk.sentiment import SentimentIntensityAnalyzer\n",
    "\n",
    "# Download the VADER lexicon if you haven't already\n",
    "nltk.download('vader_lexicon')\n",
    "\n",
    "class SentimentAnalyzer:\n",
    "    def __init__(self):\n",
    "        self.sia = SentimentIntensityAnalyzer()\n",
    "\n",
    "    def analyze(self, text):\n",
    "        score = self.sia.polarity_scores(text)\n",
    "        return score\n",
    "\n",
    "class AIChatbot:\n",
    "    def __init__(self):\n",
    "        self.sentiment_analyzer = SentimentAnalyzer()\n",
    "\n",
    "    def respond(self, user_input):\n",
    "        # Analyze sentiment\n",
    "        score = self.sentiment_analyzer.analyze(user_input)\n",
    "        sentiment = score['compound']\n",
    "\n",
    "        # Generate response based on sentiment\n",
    "        if sentiment >= 0.05:\n",
    "            response = \"I'm really glad to hear that! 😊 What else is on your mind?\"\n",
    "        elif sentiment <= -0.05:\n",
    "            response = \"I'm sorry to hear that. 😟 It's important to talk about how you feel. What’s bothering you?\"\n",
    "        else:\n",
    "            response = \"Thanks for sharing! How can I assist you further?\"\n",
    "\n",
    "        return f\"{response} (Sentiment Score: {sentiment:.2f})\"\n",
    "\n",
    "# Main function to run the chatbot\n",
    "if __name__ == \"__main__\":\n",
    "    chatbot = AIChatbot()\n",
    "    print(\"AI Chatbot: Hello! I'm here to listen. How are you feeling today? (Type 'exit' to stop)\")\n",
    "\n",
    "    while True:\n",
    "        user_input = input(\"You: \")\n",
    "        if user_input.lower() in ['exit', 'quit']:\n",
    "            print(\"AI Chatbot: Goodbye! Remember, I'm here if you need to talk.\")\n",
    "            break\n",
    "        response = chatbot.respond(user_input)\n",
    "        print(f\"AI Chatbot: {response}\")"
   ]
  },
  {
   "cell_type": "code",
   "execution_count": null,
   "id": "16de2a20-488f-452b-b363-d712eadd3820",
   "metadata": {},
   "outputs": [],
   "source": []
  },
  {
   "cell_type": "code",
   "execution_count": null,
   "id": "ba6a62a0-aa7e-4a2e-beff-632c70c6b04a",
   "metadata": {},
   "outputs": [],
   "source": []
  }
 ],
 "metadata": {
  "kernelspec": {
   "display_name": "Python 3 (ipykernel)",
   "language": "python",
   "name": "python3"
  },
  "language_info": {
   "codemirror_mode": {
    "name": "ipython",
    "version": 3
   },
   "file_extension": ".py",
   "mimetype": "text/x-python",
   "name": "python",
   "nbconvert_exporter": "python",
   "pygments_lexer": "ipython3",
   "version": "3.11.7"
  }
 },
 "nbformat": 4,
 "nbformat_minor": 5
}
